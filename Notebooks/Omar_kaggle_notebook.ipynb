{
  "nbformat": 4,
  "nbformat_minor": 0,
  "metadata": {
    "colab": {
      "name": "Omar kaggle_notebook.ipynb",
      "provenance": [],
      "collapsed_sections": []
    },
    "kernelspec": {
      "name": "python3",
      "display_name": "Python 3"
    },
    "language_info": {
      "name": "python"
    },
    "accelerator": "GPU"
  },
  "cells": [
    {
      "cell_type": "code",
      "source": [
        "from google.colab import drive\n",
        "drive.mount('/content/drive')"
      ],
      "metadata": {
        "colab": {
          "base_uri": "https://localhost:8080/"
        },
        "id": "GS3L0MwDR2FJ",
        "outputId": "292c6bd4-c732-4cb3-a41b-c86b4ac86246"
      },
      "execution_count": 1,
      "outputs": [
        {
          "output_type": "stream",
          "name": "stdout",
          "text": [
            "Mounted at /content/drive\n"
          ]
        }
      ]
    },
    {
      "cell_type": "markdown",
      "source": [
        "# Imports"
      ],
      "metadata": {
        "id": "EblW277ToaXY"
      }
    },
    {
      "cell_type": "code",
      "source": [
        "import warnings\n",
        "warnings.filterwarnings('ignore')\n",
        "from imblearn.over_sampling import SMOTE\n",
        "from sklearn.preprocessing import LabelEncoder\n",
        "import pandas as pd\n",
        "import numpy as np\n",
        "from sklearn.model_selection import StratifiedKFold\n",
        "from sklearn.preprocessing import MinMaxScaler\n",
        "from sklearn.metrics import accuracy_score\n",
        "from sklearn.metrics import f1_score\n",
        "from sklearn.decomposition import PCA\n",
        "from sklearn.utils import shuffle\n",
        "from xgboost import XGBClassifier\n",
        "import pickle"
      ],
      "metadata": {
        "id": "oUJEsNGQ0AIM"
      },
      "execution_count": 2,
      "outputs": []
    },
    {
      "cell_type": "markdown",
      "source": [
        "# Read Data"
      ],
      "metadata": {
        "id": "NhJUCTYmYboC"
      }
    },
    {
      "cell_type": "code",
      "source": [
        "def read_data(path):\n",
        "\n",
        "  df =pd.read_csv(path,index_col='ID')\n",
        "  print(df.shape) \n",
        "  # Target Manual Encoding case train file\n",
        "  df.replace({'y':{'BARBUNYA':1,'BOMBAY':2,'CALI':3,'DERMASON':4,'HOROZ':5,'SEKER':6,'SIRA':7}},inplace=True)\n",
        "  return df "
      ],
      "metadata": {
        "id": "mzsTfmNrtOlX"
      },
      "execution_count": 3,
      "outputs": []
    },
    {
      "cell_type": "markdown",
      "source": [
        "# Preprocessing"
      ],
      "metadata": {
        "id": "fgKW4SiYoid8"
      }
    },
    {
      "cell_type": "markdown",
      "source": [
        ">## Upsampling"
      ],
      "metadata": {
        "id": "TfvK9NlBosi6"
      }
    },
    {
      "cell_type": "code",
      "source": [
        "def apply_Upsmote(df):\n",
        "  # Upsample each class to 3000 sample\n",
        "  data = df.values\n",
        "  x, y = data[:, :-1], data[:, -1]\n",
        "\n",
        "  # set each label to 3000\n",
        "  strategy = {1:3000, 2:3000, 3:3000, 4:3000, 5:3000, 6:3000,7:3000}\n",
        "  oversample = SMOTE(sampling_strategy=strategy)\n",
        "  features, target = oversample.fit_resample(x, y)\n",
        "\n",
        "  # convert to Dataframe\n",
        "  oversampled_data =pd.concat([ pd.DataFrame(features),pd.DataFrame(target)], axis=1)\n",
        "  oversampled_data[0]=oversampled_data[0].astype(int) # set ID col as int\n",
        "  oversampled_data.columns= list(df.columns)\n",
        " \n",
        "  return oversampled_data"
      ],
      "metadata": {
        "id": "vt3s1MofWgB3"
      },
      "execution_count": 4,
      "outputs": []
    },
    {
      "cell_type": "code",
      "source": [
        "def get_numofsamples(df):\n",
        "  labels=df.y.unique()\n",
        "  for label in labels:  \n",
        "    print('Number of samples in class {} = {}'.format(label,len(df[df.y == label])))\n"
      ],
      "metadata": {
        "id": "OgIA3ZL_GN7Y"
      },
      "execution_count": 5,
      "outputs": []
    },
    {
      "cell_type": "markdown",
      "source": [
        ">## Cross Validation"
      ],
      "metadata": {
        "id": "7RoiO5NGGezj"
      }
    },
    {
      "cell_type": "code",
      "source": [
        "def apply_stratifiedKFold(oversampled_data):\n",
        "  data = oversampled_data.values\n",
        "  x, y = data[:, :-1], data[:, -1]\n",
        "  skf = StratifiedKFold(n_splits=5)\n",
        "  skf.get_n_splits(x, y)\n",
        "  col_names = oversampled_data.columns.to_list()\n",
        "  StratifiedKFold(n_splits=5, random_state=None, shuffle=False)\n",
        "  train_dfs,valid_dfs =list(),list()\n",
        " \n",
        "  for train_index, test_index in skf.split(x, y):\n",
        "      #print(\"TRAIN:\", train_index, \"TEST:\", test_index)\n",
        "      X_train, X_test = x[train_index], x[test_index]\n",
        "      y_train, y_test = y[train_index], y[test_index]\n",
        "      trainX = pd.DataFrame(X_train)\n",
        "      trainy= pd.DataFrame(y_train)\n",
        "\n",
        "      testX= pd.DataFrame(X_test)\n",
        "      testy=pd.DataFrame(y_test)\n",
        "\n",
        "      train=pd.concat([trainX,trainy],axis=1)\n",
        "      test=pd.concat([testX,testy],axis=1)\n",
        "      \n",
        "      train.columns=col_names\n",
        "\n",
        "      test.columns=col_names\n",
        "    \n",
        "      train_dfs.append(train)\n",
        "      valid_dfs.append(test)\n",
        "\n",
        "  return train_dfs ,valid_dfs\n",
        "\n"
      ],
      "metadata": {
        "id": "Hi4PZ_fEakSD"
      },
      "execution_count": 6,
      "outputs": []
    },
    {
      "cell_type": "markdown",
      "source": [
        ">## Scaling"
      ],
      "metadata": {
        "id": "y4O_oOV_agn0"
      }
    },
    {
      "cell_type": "code",
      "source": [
        "def apply_MinMaxScaler(X):\n",
        "  scaler = MinMaxScaler()\n",
        "  scaler.fit(X)\n",
        "  return scaler\n"
      ],
      "metadata": {
        "id": "g5r8Relnakch"
      },
      "execution_count": 7,
      "outputs": []
    },
    {
      "cell_type": "markdown",
      "source": [
        ">## Features Extraction"
      ],
      "metadata": {
        "id": "DYH2UZKWHYXI"
      }
    },
    {
      "cell_type": "code",
      "source": [
        "def apply_pca(scaled_X,n_components):\n",
        "  pca = PCA(n_components)\n",
        "  pca.fit(scaled_X)\n",
        "  return pca\n"
      ],
      "metadata": {
        "id": "natNOoH4PNTs"
      },
      "execution_count": 8,
      "outputs": []
    },
    {
      "cell_type": "markdown",
      "source": [
        "# Model"
      ],
      "metadata": {
        "id": "h2VKqpPGo6-J"
      }
    },
    {
      "cell_type": "code",
      "source": [
        "def apply_model(modelname,xtrain,ytrain,xvalid,yvalid):\n",
        "  if modelname=='XGBoost':\n",
        "    score_train,f1score_val,model=apply_XGBoost(xtrain,ytrain,xvalid,yvalid)\n",
        "\n",
        "  if modelname=='SVM':\n",
        "    score_train,f1score_val,model=apply_svm(xtrain,ytrain,xvalid,yvalid)\n",
        "\n",
        "  return score_train,f1score_val,model"
      ],
      "metadata": {
        "id": "KxKNb4DtohoD"
      },
      "execution_count": 9,
      "outputs": []
    },
    {
      "cell_type": "code",
      "source": [
        "def apply_XGBoost(xtrain,ytrain,xvalid,yvalid):\n",
        "  xgb_model = XGBClassifier(learning_rate=0.3 , random_state =42, objective='multi:softmax', max_depth=6, reg_alpha = 0.08, gamma=0.1, verbosity=0) \n",
        "  xgb_model.fit(xtrain,ytrain)\n",
        "  predictions = xgb_model.predict(xvalid)\n",
        "\n",
        "  score_train = xgb_model.score(xtrain, ytrain)\n",
        "  f1score_val = f1_score(yvalid, predictions, average=\"micro\")\n",
        "  print(f'Train score: {score_train} \\t  valiation F1 score : {f1score_val}')\n",
        "  return score_train,f1score_val,xgb_model\n",
        "\n"
      ],
      "metadata": {
        "id": "v096QKIKY3ba"
      },
      "execution_count": 10,
      "outputs": []
    },
    {
      "cell_type": "code",
      "source": [
        "def apply_svm(xtrain,ytrain,xvalid,yvalid):\n",
        "  pass"
      ],
      "metadata": {
        "id": "F5FbQXBI3fvT"
      },
      "execution_count": null,
      "outputs": []
    },
    {
      "cell_type": "markdown",
      "source": [
        "# Run"
      ],
      "metadata": {
        "id": "ErWNKtcwY04S"
      }
    },
    {
      "cell_type": "code",
      "source": [
        "def run_experiment(path,modelname):\n",
        "  # 1. raed data\n",
        "  df= read_data(path=path)\n",
        "  # 2. Upsampling\n",
        "  oversampled_data=apply_Upsmote(df)\n",
        "  # 3. Apply Kfold\n",
        "  train_dfs ,valid_dfs= apply_stratifiedKFold(oversampled_data)\n",
        "\n",
        "  # 4. do for each fold\n",
        "  Accuracies_train,Accuracies_valid=list(),list()\n",
        "  for train_df , valid_df in zip(train_dfs,valid_dfs):\n",
        "    train_df= shuffle(train_df)  #1. shuffle\n",
        "    scaler= apply_MinMaxScaler(train_df.iloc[:,:-1])  #2. scaling\n",
        "    scaled_train= scaler.transform(train_df.iloc[:,:-1])\n",
        "    pca= apply_pca(scaled_train ,n_components=7) #3. extract features\n",
        "    pca_train = pca.transform(scaled_train)\n",
        "\n",
        "    # Apply on validation\n",
        "    scaled_valid=scaler.transform(valid_df.iloc[:,:-1])\n",
        "    pca_valid=pca.transform(scaled_valid)\n",
        "\n",
        "    xtrain,ytrain =pca_train,train_df.iloc[:,-1]\n",
        "    xvalid,yvalid =pca_valid,valid_df.iloc[:,-1]\n",
        "    \n",
        "    score_train,f1score_val,model=apply_model(modelname, xtrain,ytrain,xvalid,yvalid) #4. Apply model\n",
        "    Accuracies_train.append(score_train)\n",
        "    Accuracies_valid.append(f1score_val)\n",
        "\n",
        "  return np.mean(Accuracies_train), np.mean(Accuracies_valid),scaler,pca,model"
      ],
      "metadata": {
        "id": "svKWSwpHY3yK"
      },
      "execution_count": 11,
      "outputs": []
    },
    {
      "cell_type": "code",
      "source": [
        "path ='/content/drive/MyDrive/Dry Beans Classification Competition/Dataset/Original/train.csv'\n",
        "avg_acc_train,avg_acc_valid,scaler,pca,model= run_experiment(path,modelname='XGBoost')\n",
        "print(f'=========\\nTotal Avg Acc Of Train = {avg_acc_train}  Total Avg Acc Of Valid = {avg_acc_valid}')"
      ],
      "metadata": {
        "colab": {
          "base_uri": "https://localhost:8080/"
        },
        "id": "iIxPE33wVADk",
        "outputId": "d1b3c197-4c80-4dee-dd8c-96cc1ca90253"
      },
      "execution_count": null,
      "outputs": [
        {
          "output_type": "stream",
          "name": "stdout",
          "text": [
            "(10834, 17)\n",
            "Train score: 1.0 \t  valiation F1 score : 0.9395238095238095\n",
            "Train score: 0.9998809523809524 \t  valiation F1 score : 0.9464285714285714\n",
            "Train score: 1.0 \t  valiation F1 score : 0.9523809523809523\n",
            "Train score: 0.9998809523809524 \t  valiation F1 score : 0.96\n",
            "Train score: 0.9998809523809524 \t  valiation F1 score : 0.964047619047619\n",
            "=========\n",
            "Total Avg Acc Of Train = 0.9999285714285715  Total Avg Acc Of Valid = 0.9524761904761905\n"
          ]
        }
      ]
    },
    {
      "cell_type": "code",
      "source": [
        "def apply_XGBoost(xtrain,ytrain,xvalid,yvalid):\n",
        "  xgb_model = XGBClassifier(learning_rate=0.2 , random_state =42, objective='multi:softmax', max_depth=4, reg_alpha = 0.09, gamma=0.2, verbosity=0) \n",
        "  xgb_model.fit(xtrain,ytrain)\n",
        "  predictions = xgb_model.predict(xvalid)\n",
        "\n",
        "  score_train = xgb_model.score(xtrain, ytrain)\n",
        "  f1score_val = f1_score(yvalid, predictions, average=\"micro\")\n",
        "  print(f'Train score: {score_train} \\t  valiation F1 score : {f1score_val}')\n",
        "  return score_train,f1score_val,xgb_model\n"
      ],
      "metadata": {
        "id": "odJd3TkOhXCi"
      },
      "execution_count": 13,
      "outputs": []
    },
    {
      "cell_type": "code",
      "source": [
        "path ='/content/drive/MyDrive/Dry Beans Classification Competition/Dataset/Original/train.csv'\n",
        "avg_acc_train,avg_acc_valid,scaler,pca,model= run_experiment(path,modelname='XGBoost')\n",
        "print(f'=========\\nTotal Avg Acc Of Train = {avg_acc_train}  Total Avg Acc Of Valid = {avg_acc_valid}')"
      ],
      "metadata": {
        "colab": {
          "base_uri": "https://localhost:8080/"
        },
        "id": "nLVzYDVdhv8r",
        "outputId": "c2d8ca72-b9a7-431d-a2be-bd33228e8a5b"
      },
      "execution_count": 14,
      "outputs": [
        {
          "output_type": "stream",
          "name": "stdout",
          "text": [
            "(10834, 17)\n",
            "Train score: 0.9809523809523809 \t  valiation F1 score : 0.9395238095238095\n",
            "Train score: 0.9808333333333333 \t  valiation F1 score : 0.9435714285714286\n",
            "Train score: 0.9807738095238095 \t  valiation F1 score : 0.9483333333333334\n",
            "Train score: 0.9776190476190476 \t  valiation F1 score : 0.9595238095238096\n",
            "Train score: 0.9785714285714285 \t  valiation F1 score : 0.9592857142857143\n",
            "=========\n",
            "Total Avg Acc Of Train = 0.9797499999999999  Total Avg Acc Of Valid = 0.950047619047619\n"
          ]
        }
      ]
    },
    {
      "cell_type": "code",
      "source": [
        "def apply_XGBoost(xtrain,ytrain,xvalid,yvalid):\n",
        "  xgb_model = XGBClassifier(learning_rate=0.05 , random_state =42, objective='multi:softmax', max_depth=5, reg_alpha = 0.09, gamma=0.2, verbosity=0) \n",
        "  xgb_model.fit(xtrain,ytrain)\n",
        "  predictions = xgb_model.predict(xvalid)\n",
        "\n",
        "  score_train = xgb_model.score(xtrain, ytrain)\n",
        "  f1score_val = f1_score(yvalid, predictions, average=\"micro\")\n",
        "  print(f'Train score: {score_train} \\t  valiation F1 score : {f1score_val}')\n",
        "  return score_train,f1score_val,xgb_model\n"
      ],
      "metadata": {
        "id": "ykfTWKlzkojM"
      },
      "execution_count": 19,
      "outputs": []
    },
    {
      "cell_type": "code",
      "source": [
        "path ='/content/drive/MyDrive/Dry Beans Classification Competition/Dataset/Original/train.csv'\n",
        "avg_acc_train,avg_acc_valid,scaler,pca,model= run_experiment(path,modelname='XGBoost')\n",
        "print(f'=========\\nTotal Avg Acc Of Train = {avg_acc_train}  Total Avg Acc Of Valid = {avg_acc_valid}')"
      ],
      "metadata": {
        "colab": {
          "base_uri": "https://localhost:8080/"
        },
        "id": "7FhCHl-1kubw",
        "outputId": "7e1a7fdd-f056-4aef-a33d-dfd3851556d1"
      },
      "execution_count": 20,
      "outputs": [
        {
          "output_type": "stream",
          "name": "stdout",
          "text": [
            "(10834, 17)\n",
            "Train score: 0.9664880952380952 \t  valiation F1 score : 0.9342857142857143\n",
            "Train score: 0.9643452380952381 \t  valiation F1 score : 0.9419047619047618\n",
            "Train score: 0.9636309523809524 \t  valiation F1 score : 0.9507142857142857\n",
            "Train score: 0.9620833333333333 \t  valiation F1 score : 0.9580952380952381\n",
            "Train score: 0.9619642857142857 \t  valiation F1 score : 0.9554761904761905\n",
            "=========\n",
            "Total Avg Acc Of Train = 0.9637023809523809  Total Avg Acc Of Valid = 0.9480952380952381\n"
          ]
        }
      ]
    },
    {
      "cell_type": "code",
      "source": [
        "def apply_XGBoost(xtrain,ytrain,xvalid,yvalid):\n",
        "  xgb_model = XGBClassifier(learning_rate=0.09 , random_state =42, objective='multi:softmax', max_depth=4, reg_alpha = 3, gamma=0, verbosity=0) \n",
        "  xgb_model.fit(xtrain,ytrain)\n",
        "  predictions = xgb_model.predict(xvalid)\n",
        "\n",
        "  score_train = xgb_model.score(xtrain, ytrain)\n",
        "  f1score_val = f1_score(yvalid, predictions, average=\"micro\")\n",
        "  print(f'Train score: {score_train} \\t  valiation F1 score : {f1score_val}')\n",
        "  return score_train,f1score_val,xgb_model\n"
      ],
      "metadata": {
        "id": "NdjU7kJvmL4g"
      },
      "execution_count": 132,
      "outputs": []
    },
    {
      "cell_type": "code",
      "source": [
        "path ='/content/drive/MyDrive/Dry Beans Classification Competition/Dataset/Original/train.csv'\n",
        "avg_acc_train,avg_acc_valid,scaler,pca,model= run_experiment(path,modelname='XGBoost')\n",
        "print(f'=========\\nTotal Avg Acc Of Train = {avg_acc_train}  Total Avg Acc Of Valid = {avg_acc_valid}')"
      ],
      "metadata": {
        "colab": {
          "base_uri": "https://localhost:8080/"
        },
        "id": "75o1ERvdmTgi",
        "outputId": "8cd1746d-af6f-444a-9a04-ebdf4e771b21"
      },
      "execution_count": 133,
      "outputs": [
        {
          "output_type": "stream",
          "name": "stdout",
          "text": [
            "(10834, 17)\n",
            "Train score: 0.9631547619047619 \t  valiation F1 score : 0.934047619047619\n",
            "Train score: 0.9627380952380953 \t  valiation F1 score : 0.944047619047619\n",
            "Train score: 0.9601785714285714 \t  valiation F1 score : 0.950952380952381\n",
            "Train score: 0.9595238095238096 \t  valiation F1 score : 0.9564285714285714\n",
            "Train score: 0.9588095238095238 \t  valiation F1 score : 0.9576190476190476\n",
            "=========\n",
            "Total Avg Acc Of Train = 0.9608809523809525  Total Avg Acc Of Valid = 0.9486190476190476\n"
          ]
        }
      ]
    },
    {
      "cell_type": "code",
      "source": [
        "# save model \n",
        "with open('model.pkl', 'wb') as file:\n",
        "        pickle.dump(model, file)"
      ],
      "metadata": {
        "id": "uy5RU7tF_JZI"
      },
      "execution_count": null,
      "outputs": []
    },
    {
      "cell_type": "markdown",
      "source": [
        "# Test Kaggle"
      ],
      "metadata": {
        "id": "s9Al5zob6CbO"
      }
    },
    {
      "cell_type": "code",
      "source": [
        "path ='/content/drive/MyDrive/Dry Beans Classification Competition/Dataset/Original/test.csv'\n",
        "df= pd.read_csv(path)\n",
        "scaled_df= scaler.transform(df.iloc[:,1:])\n",
        "ft_selected=pca.transform(scaled_df)\n",
        "\n",
        "# Load pretrained model\n",
        "pkl_filename='model.pkl'\n",
        "with open(pkl_filename, 'rb') as file:\n",
        "    pretrained_model = pickle.load(file)\n",
        "\n",
        "prediction= pretrained_model.predict(ft_selected)\n",
        "pred_df= pd.DataFrame(prediction)\n",
        "submit_df =pd.concat([df.iloc[:,0],pred_df],axis=1)\n",
        "submit_df.columns=['ID','y']\n",
        "submit_df.replace({'y':{1:'BARBUNYA',2:'BOMBAY',3:'CALI',4:'DERMASON',5:'HOROZ',6:'SEKER',7:'SIRA'}},inplace=True)\n",
        "submit_df.to_csv('submission.csv')\n",
        "submit_df"
      ],
      "metadata": {
        "colab": {
          "base_uri": "https://localhost:8080/",
          "height": 424
        },
        "id": "wEns0m3HC-mp",
        "outputId": "7317738e-4df8-47a8-ce2e-3e85d02f6a9d"
      },
      "execution_count": null,
      "outputs": [
        {
          "output_type": "execute_result",
          "data": {
            "text/plain": [
              "         ID         y\n",
              "0     10834     HOROZ\n",
              "1     10835  DERMASON\n",
              "2     10836  BARBUNYA\n",
              "3     10837  DERMASON\n",
              "4     10838    BOMBAY\n",
              "...     ...       ...\n",
              "2704  13538      CALI\n",
              "2705  13539     SEKER\n",
              "2706  13540     HOROZ\n",
              "2707  13541  DERMASON\n",
              "2708  13542      SIRA\n",
              "\n",
              "[2709 rows x 2 columns]"
            ],
            "text/html": [
              "\n",
              "  <div id=\"df-fd3c31d0-ae20-4a68-adc7-78312d6cf5fb\">\n",
              "    <div class=\"colab-df-container\">\n",
              "      <div>\n",
              "<style scoped>\n",
              "    .dataframe tbody tr th:only-of-type {\n",
              "        vertical-align: middle;\n",
              "    }\n",
              "\n",
              "    .dataframe tbody tr th {\n",
              "        vertical-align: top;\n",
              "    }\n",
              "\n",
              "    .dataframe thead th {\n",
              "        text-align: right;\n",
              "    }\n",
              "</style>\n",
              "<table border=\"1\" class=\"dataframe\">\n",
              "  <thead>\n",
              "    <tr style=\"text-align: right;\">\n",
              "      <th></th>\n",
              "      <th>ID</th>\n",
              "      <th>y</th>\n",
              "    </tr>\n",
              "  </thead>\n",
              "  <tbody>\n",
              "    <tr>\n",
              "      <th>0</th>\n",
              "      <td>10834</td>\n",
              "      <td>HOROZ</td>\n",
              "    </tr>\n",
              "    <tr>\n",
              "      <th>1</th>\n",
              "      <td>10835</td>\n",
              "      <td>DERMASON</td>\n",
              "    </tr>\n",
              "    <tr>\n",
              "      <th>2</th>\n",
              "      <td>10836</td>\n",
              "      <td>BARBUNYA</td>\n",
              "    </tr>\n",
              "    <tr>\n",
              "      <th>3</th>\n",
              "      <td>10837</td>\n",
              "      <td>DERMASON</td>\n",
              "    </tr>\n",
              "    <tr>\n",
              "      <th>4</th>\n",
              "      <td>10838</td>\n",
              "      <td>BOMBAY</td>\n",
              "    </tr>\n",
              "    <tr>\n",
              "      <th>...</th>\n",
              "      <td>...</td>\n",
              "      <td>...</td>\n",
              "    </tr>\n",
              "    <tr>\n",
              "      <th>2704</th>\n",
              "      <td>13538</td>\n",
              "      <td>CALI</td>\n",
              "    </tr>\n",
              "    <tr>\n",
              "      <th>2705</th>\n",
              "      <td>13539</td>\n",
              "      <td>SEKER</td>\n",
              "    </tr>\n",
              "    <tr>\n",
              "      <th>2706</th>\n",
              "      <td>13540</td>\n",
              "      <td>HOROZ</td>\n",
              "    </tr>\n",
              "    <tr>\n",
              "      <th>2707</th>\n",
              "      <td>13541</td>\n",
              "      <td>DERMASON</td>\n",
              "    </tr>\n",
              "    <tr>\n",
              "      <th>2708</th>\n",
              "      <td>13542</td>\n",
              "      <td>SIRA</td>\n",
              "    </tr>\n",
              "  </tbody>\n",
              "</table>\n",
              "<p>2709 rows × 2 columns</p>\n",
              "</div>\n",
              "      <button class=\"colab-df-convert\" onclick=\"convertToInteractive('df-fd3c31d0-ae20-4a68-adc7-78312d6cf5fb')\"\n",
              "              title=\"Convert this dataframe to an interactive table.\"\n",
              "              style=\"display:none;\">\n",
              "        \n",
              "  <svg xmlns=\"http://www.w3.org/2000/svg\" height=\"24px\"viewBox=\"0 0 24 24\"\n",
              "       width=\"24px\">\n",
              "    <path d=\"M0 0h24v24H0V0z\" fill=\"none\"/>\n",
              "    <path d=\"M18.56 5.44l.94 2.06.94-2.06 2.06-.94-2.06-.94-.94-2.06-.94 2.06-2.06.94zm-11 1L8.5 8.5l.94-2.06 2.06-.94-2.06-.94L8.5 2.5l-.94 2.06-2.06.94zm10 10l.94 2.06.94-2.06 2.06-.94-2.06-.94-.94-2.06-.94 2.06-2.06.94z\"/><path d=\"M17.41 7.96l-1.37-1.37c-.4-.4-.92-.59-1.43-.59-.52 0-1.04.2-1.43.59L10.3 9.45l-7.72 7.72c-.78.78-.78 2.05 0 2.83L4 21.41c.39.39.9.59 1.41.59.51 0 1.02-.2 1.41-.59l7.78-7.78 2.81-2.81c.8-.78.8-2.07 0-2.86zM5.41 20L4 18.59l7.72-7.72 1.47 1.35L5.41 20z\"/>\n",
              "  </svg>\n",
              "      </button>\n",
              "      \n",
              "  <style>\n",
              "    .colab-df-container {\n",
              "      display:flex;\n",
              "      flex-wrap:wrap;\n",
              "      gap: 12px;\n",
              "    }\n",
              "\n",
              "    .colab-df-convert {\n",
              "      background-color: #E8F0FE;\n",
              "      border: none;\n",
              "      border-radius: 50%;\n",
              "      cursor: pointer;\n",
              "      display: none;\n",
              "      fill: #1967D2;\n",
              "      height: 32px;\n",
              "      padding: 0 0 0 0;\n",
              "      width: 32px;\n",
              "    }\n",
              "\n",
              "    .colab-df-convert:hover {\n",
              "      background-color: #E2EBFA;\n",
              "      box-shadow: 0px 1px 2px rgba(60, 64, 67, 0.3), 0px 1px 3px 1px rgba(60, 64, 67, 0.15);\n",
              "      fill: #174EA6;\n",
              "    }\n",
              "\n",
              "    [theme=dark] .colab-df-convert {\n",
              "      background-color: #3B4455;\n",
              "      fill: #D2E3FC;\n",
              "    }\n",
              "\n",
              "    [theme=dark] .colab-df-convert:hover {\n",
              "      background-color: #434B5C;\n",
              "      box-shadow: 0px 1px 3px 1px rgba(0, 0, 0, 0.15);\n",
              "      filter: drop-shadow(0px 1px 2px rgba(0, 0, 0, 0.3));\n",
              "      fill: #FFFFFF;\n",
              "    }\n",
              "  </style>\n",
              "\n",
              "      <script>\n",
              "        const buttonEl =\n",
              "          document.querySelector('#df-fd3c31d0-ae20-4a68-adc7-78312d6cf5fb button.colab-df-convert');\n",
              "        buttonEl.style.display =\n",
              "          google.colab.kernel.accessAllowed ? 'block' : 'none';\n",
              "\n",
              "        async function convertToInteractive(key) {\n",
              "          const element = document.querySelector('#df-fd3c31d0-ae20-4a68-adc7-78312d6cf5fb');\n",
              "          const dataTable =\n",
              "            await google.colab.kernel.invokeFunction('convertToInteractive',\n",
              "                                                     [key], {});\n",
              "          if (!dataTable) return;\n",
              "\n",
              "          const docLinkHtml = 'Like what you see? Visit the ' +\n",
              "            '<a target=\"_blank\" href=https://colab.research.google.com/notebooks/data_table.ipynb>data table notebook</a>'\n",
              "            + ' to learn more about interactive tables.';\n",
              "          element.innerHTML = '';\n",
              "          dataTable['output_type'] = 'display_data';\n",
              "          await google.colab.output.renderOutput(dataTable, element);\n",
              "          const docLink = document.createElement('div');\n",
              "          docLink.innerHTML = docLinkHtml;\n",
              "          element.appendChild(docLink);\n",
              "        }\n",
              "      </script>\n",
              "    </div>\n",
              "  </div>\n",
              "  "
            ]
          },
          "metadata": {},
          "execution_count": 21
        }
      ]
    }
  ]
}